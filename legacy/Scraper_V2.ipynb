{
 "cells": [
  {
   "cell_type": "markdown",
   "metadata": {},
   "source": [
    "<p style=\"text-align: center; font-size: 30px;\">\n",
    "    <strong>\n",
    "          Scraper for Amazon\n",
    "    </strong>\n",
    "</p>\n",
    "\n",
    "----\n",
    "\n",
    "<b style=\"text-align: left; font-size: 18px;\">\n",
    "    The following project is specifically designed to scrape publicly available data concerning user reviews for goods listed on amazon.es\n",
    "</b>\n",
    "\n",
    "----\n",
    "\n",
    "<b style=\"font-size: 20px;\">Project Roadmap</b>\n",
    "\n",
    "-  <p style=\"font-size: 18px;\">Create a list of target URLs</p>\n",
    "-  <p style=\"font-size: 18px;\">Develop a program to automatically access specified websites and extract their data</p>\n",
    "-  <p style=\"font-size: 18px;\">Save the acquired data in a DataFrame for future applications</p>\n",
    "---\n",
    "\n",
    "<b style=\"font-size: 20px;\">Required tools</b>\n",
    "\n",
    "<blockquote style=\"background-color: #f0f0f0; padding: 10px; border-left: 10px solid #3498db; font-size: 18px;\">\n",
    "    <a href=\"https://www.python.org/downloads/\" target=\"_blank\" rel=\"noopener noreferrer\">Latest version of Python</a>\n",
    "</blockquote>\n",
    "\n",
    "<blockquote style=\"background-color: #f0f0f0; padding: 10px; border-left: 10px solid #3498db; font-size: 18px;\">\n",
    "    <a href=\"https://googlechromelabs.github.io/chrome-for-testing/\" target=\"_blank\" rel=\"noopener noreferrer\">Latest version of WebDriver</a>\n",
    "</blockquote>\n",
    "\n",
    "<blockquote style=\"background-color: #f0f0f0; padding: 10px; border-left: 10px solid #3498db; font-size: 18px;\">\n",
    "    Selenuim library for scraping purposes\n",
    "</blockquote>"
   ]
  },
  {
   "cell_type": "code",
   "execution_count": null,
   "metadata": {},
   "outputs": [],
   "source": [
    "!pip install selenium"
   ]
  },
  {
   "cell_type": "markdown",
   "metadata": {},
   "source": [
    "<blockquote style=\"background-color: #f0f0f0; padding: 10px; border-left: 10px solid #3498db; font-size: 18px;\">\n",
    "    Pandas library for data storage and manipulation\n",
    "</blockquote>"
   ]
  },
  {
   "cell_type": "code",
   "execution_count": null,
   "metadata": {},
   "outputs": [],
   "source": [
    "!pip install pandas"
   ]
  },
  {
   "cell_type": "markdown",
   "metadata": {},
   "source": [
    "<blockquote style=\"background-color: #f0f0f0; padding: 10px; border-left: 10px solid #3498db; font-size: 18px;\">\n",
    "    TQDM library for progress check \n",
    "</blockquote>"
   ]
  },
  {
   "cell_type": "code",
   "execution_count": null,
   "metadata": {},
   "outputs": [],
   "source": [
    "!pip install tqdm"
   ]
  },
  {
   "cell_type": "markdown",
   "metadata": {},
   "source": [
    "----\n",
    "<b style=\"font-size: 20px;\">Specification of the target URLs</b>\n",
    "\n",
    "<p style=\"font-size: 18px;\">The same method can be applied to other goods on amazon.es</p>\n",
    "\n",
    "```python\n",
    "base_url = 'https://www.amazon.es/CREATE-THERA-Cafetera-monodosis-semiautom%C3%A1tica/product-reviews/B0BSH8CYN8/ref=cm_cr_getr_d_paging_btm_next_2?ie=UTF8&pageNumber=1&reviewerType=avp_only_reviews'\n",
    "\n",
    "urls = []\n",
    "for i in range(1, 319):\n",
    "    \n",
    "    prefix = base_url[:155]  \n",
    "    suffix = base_url[156:]\n",
    "\n",
    "    updated_url = f\"{prefix}{i}{suffix}\"\n",
    "    \n",
    "    urls.append(updated_url)\n",
    "\n",
    "```\n",
    "----\n",
    "<b style=\"font-size: 20px;\">Automatic interaction with web services</b>\n",
    "\n",
    "<p style=\"font-size: 18px;\">WebDriver is a tool that provides a programmatic interface for interacting with web browsers</p>\n",
    "\n",
    "```python\n",
    "service = Service(DRIVER_PATH)\n",
    "driver = webdriver.Chrome(service=service, options=options)\n",
    "```\n",
    "----\n",
    "\n",
    "<b style=\"font-size: 20px;\">Necessary adgustments for the bot</b>\n",
    "\n",
    "<p style=\"font-size: 18px;\">To avoid restrictions the bot must emulate the behaviour of a human user</p>\n",
    "\n",
    "<p style=\"font-size: 18px;\">This setting allows the bot to send a user-agent string with browser specs, just like a human would</p>\n",
    "\n",
    "```python\n",
    "options.add_argument(\"user-agent=Mozilla/5.0 (Windows NT 10.0; Win64; x64) AppleWebKit/537.36 (KHTML, like Gecko) Chrome/91.0.4472.124 Safari/537.36\")\n",
    "\n",
    "\n",
    "```\n",
    "\n",
    "<p style=\"font-size: 18px;\">Freezing the process for random time periods also helps to avoid detection</p>\n",
    "\n",
    "```python\n",
    "time.sleep(random.randint(1, 3))\n",
    "```\n",
    "----\n",
    "<p style=\"text-align: center; font-size: 25px;\">\n",
    "    <strong>\n",
    "          The final code\n",
    "    </strong>\n",
    "</p>\n",
    "\n",
    "---"
   ]
  },
  {
   "cell_type": "code",
   "execution_count": 99,
   "metadata": {},
   "outputs": [
    {
     "name": "stderr",
     "output_type": "stream",
     "text": [
      "Processing URLs: 100%|██████████| 100/100 [04:05<00:00,  2.45s/URL]\n"
     ]
    },
    {
     "name": "stdout",
     "output_type": "stream",
     "text": [
      "Done.\n",
      "Saved 100 reviews in testing_v2.csv\n"
     ]
    }
   ],
   "source": [
    "from selenium import webdriver\n",
    "from selenium.webdriver.common.by import By\n",
    "from selenium.webdriver.chrome.service import Service\n",
    "from selenium.webdriver.chrome.options import Options\n",
    "import pandas as pd\n",
    "\n",
    "import time\n",
    "import random\n",
    "from tqdm import tqdm\n",
    "\n",
    "def get_urls():\n",
    "    base_url = 'https://www.amazon.es/CREATE-THERA-Cafetera-monodosis-semiautom%C3%A1tica/product-reviews/B0BSH8CYN8/ref=cm_cr_getr_d_paging_btm_next_2?ie=UTF8&pageNumber=1&reviewerType=avp_only_reviews'\n",
    "    list_urls = []\n",
    "\n",
    "    for i in range(1, 11):\n",
    "    \n",
    "        prefix = base_url[:155]  \n",
    "        suffix = base_url[156:]\n",
    "    \n",
    "        #changing the number of a page\n",
    "        updated_url = f\"{prefix}{i}{suffix}\"\n",
    "    \n",
    "        list_urls.append(updated_url)\n",
    "    \n",
    "    return list_urls\n",
    "\n",
    "def scrape_reviews(urls):\n",
    "    \n",
    "    options = Options()\n",
    "    options.add_argument('--headless') \n",
    "    options.add_argument('--no-sandbox')\n",
    "    options.add_argument('--disable-dev-shm-usage')\n",
    "    options.add_argument(\"user-agent=Mozilla/5.0 (Windows NT 10.0; Win64; x64) AppleWebKit/537.36 (KHTML, like Gecko) Chrome/91.0.4472.124 Safari/537.36\")\n",
    "\n",
    "\n",
    "    DRIVER_PATH = '/Users/apple/Downloads/Project_Gnomi_Huekradi/chromedriver'\n",
    "\n",
    "    service = Service(DRIVER_PATH)\n",
    "    driver = webdriver.Chrome(service=service, options=options)\n",
    "    \n",
    "    reviews = []\n",
    "    \n",
    "    for url in tqdm(urls, desc='Processing URLs', unit='URL'): \n",
    "        \n",
    "        driver.get(url)\n",
    "        \n",
    "        time.sleep(random.randint(1, 3))\n",
    "\n",
    "\n",
    "        # Getting reviews\n",
    "        review_blocks = driver.find_elements(By.CSS_SELECTOR, '.a-section.review')\n",
    "        for review_block in review_blocks:\n",
    "            title = review_block.find_element(By.CSS_SELECTOR, '.review-title-content').text.strip()\n",
    "            rating = review_block.find_element(By.CSS_SELECTOR, '.a-icon-alt').get_attribute('textContent').strip()\n",
    "            body = review_block.find_element(By.CSS_SELECTOR, '[data-hook=\"review-body\"]').text.strip()\n",
    "            author = review_block.find_element(By.CSS_SELECTOR, '.a-profile-name').text.strip()\n",
    "            date = review_block.find_element(By.CSS_SELECTOR, '.review-date').text.strip()\n",
    "\n",
    "            reviews.append({\n",
    "                'title': title,\n",
    "                'rating': rating,\n",
    "                'body': body,\n",
    "                'author': author,\n",
    "                'date': date,\n",
    "            })\n",
    "    \n",
    "    print(\"Done.\")\n",
    "    driver.quit()\n",
    "    return reviews\n",
    "\n",
    "# Saving data\n",
    "def save_to_csv(reviews, filename):\n",
    "    df = pd.DataFrame(reviews)\n",
    "    df.to_csv(filename, index=False, encoding='utf-8')\n",
    "\n",
    "if __name__ == \"__main__\":\n",
    "\n",
    "    urls = get_urls()\n",
    "    reviews = scrape_reviews(urls)\n",
    "    filename = 'testing_v2.csv'\n",
    "    save_to_csv(reviews, filename)\n",
    "    print(f'Saved {len(reviews)} reviews in {filename}')"
   ]
  },
  {
   "cell_type": "markdown",
   "metadata": {},
   "source": [
    "---\n",
    "<b style=\"font-size: 20px;\">Saving data in a DataFrame</b>\n"
   ]
  },
  {
   "cell_type": "code",
   "execution_count": 100,
   "metadata": {},
   "outputs": [
    {
     "data": {
      "text/html": [
       "<div>\n",
       "<style scoped>\n",
       "    .dataframe tbody tr th:only-of-type {\n",
       "        vertical-align: middle;\n",
       "    }\n",
       "\n",
       "    .dataframe tbody tr th {\n",
       "        vertical-align: top;\n",
       "    }\n",
       "\n",
       "    .dataframe thead th {\n",
       "        text-align: right;\n",
       "    }\n",
       "</style>\n",
       "<table border=\"1\" class=\"dataframe\">\n",
       "  <thead>\n",
       "    <tr style=\"text-align: right;\">\n",
       "      <th></th>\n",
       "      <th>title</th>\n",
       "      <th>rating</th>\n",
       "      <th>body</th>\n",
       "      <th>author</th>\n",
       "      <th>date</th>\n",
       "    </tr>\n",
       "  </thead>\n",
       "  <tbody>\n",
       "    <tr>\n",
       "      <th>0</th>\n",
       "      <td>Perfecta!</td>\n",
       "      <td>5,0 de 5 estrellas</td>\n",
       "      <td>Me encanta! Soy adicta al café y me gusta toma...</td>\n",
       "      <td>Perfecta!</td>\n",
       "      <td>Revisado en España el 22 de febrero de 2024</td>\n",
       "    </tr>\n",
       "    <tr>\n",
       "      <th>1</th>\n",
       "      <td>Un quiero y no puedo</td>\n",
       "      <td>4,0 de 5 estrellas</td>\n",
       "      <td>Realmente el producto en si funciona bien pero...</td>\n",
       "      <td>Ro</td>\n",
       "      <td>Revisado en España el 17 de abril de 2024</td>\n",
       "    </tr>\n",
       "    <tr>\n",
       "      <th>2</th>\n",
       "      <td>Precioso diseño y buen funcionamiento a buen p...</td>\n",
       "      <td>5,0 de 5 estrellas</td>\n",
       "      <td>Si quieres una cafetera sin complicaciones, bo...</td>\n",
       "      <td>Hank Solo</td>\n",
       "      <td>Revisado en España el 22 de enero de 2024</td>\n",
       "    </tr>\n",
       "    <tr>\n",
       "      <th>3</th>\n",
       "      <td>Buena Relación Precio/Calidad</td>\n",
       "      <td>5,0 de 5 estrellas</td>\n",
       "      <td>Qué Pasada!!\\n\\nla Compramos para Reyes cansad...</td>\n",
       "      <td>LHO</td>\n",
       "      <td>Revisado en España el 26 de febrero de 2021</td>\n",
       "    </tr>\n",
       "    <tr>\n",
       "      <th>4</th>\n",
       "      <td>Decepcionante, tanto la cafetera como el servi...</td>\n",
       "      <td>1,0 de 5 estrellas</td>\n",
       "      <td>EDITO: El café lo hace bueno, no sabe para nad...</td>\n",
       "      <td>Alicia TM</td>\n",
       "      <td>Revisado en España el 12 de diciembre de 2020</td>\n",
       "    </tr>\n",
       "  </tbody>\n",
       "</table>\n",
       "</div>"
      ],
      "text/plain": [
       "                                               title              rating  \\\n",
       "0                                          Perfecta!  5,0 de 5 estrellas   \n",
       "1                               Un quiero y no puedo  4,0 de 5 estrellas   \n",
       "2  Precioso diseño y buen funcionamiento a buen p...  5,0 de 5 estrellas   \n",
       "3                      Buena Relación Precio/Calidad  5,0 de 5 estrellas   \n",
       "4  Decepcionante, tanto la cafetera como el servi...  1,0 de 5 estrellas   \n",
       "\n",
       "                                                body     author  \\\n",
       "0  Me encanta! Soy adicta al café y me gusta toma...  Perfecta!   \n",
       "1  Realmente el producto en si funciona bien pero...         Ro   \n",
       "2  Si quieres una cafetera sin complicaciones, bo...  Hank Solo   \n",
       "3  Qué Pasada!!\\n\\nla Compramos para Reyes cansad...        LHO   \n",
       "4  EDITO: El café lo hace bueno, no sabe para nad...  Alicia TM   \n",
       "\n",
       "                                            date  \n",
       "0    Revisado en España el 22 de febrero de 2024  \n",
       "1      Revisado en España el 17 de abril de 2024  \n",
       "2      Revisado en España el 22 de enero de 2024  \n",
       "3    Revisado en España el 26 de febrero de 2021  \n",
       "4  Revisado en España el 12 de diciembre de 2020  "
      ]
     },
     "execution_count": 100,
     "metadata": {},
     "output_type": "execute_result"
    }
   ],
   "source": [
    "# Saving data in DataFrame\n",
    "data = pd.read_csv('testing_v2.csv')\n",
    "\n",
    "data.head()"
   ]
  },
  {
   "cell_type": "code",
   "execution_count": 84,
   "metadata": {},
   "outputs": [
    {
     "data": {
      "text/plain": [
       "title                      Una máquina como la de los bares\n",
       "rating                                   5,0 de 5 estrellas\n",
       "body      El primer mandamiento de todo es, un buen café...\n",
       "author                                  Esperanza Ruiz Ruiz\n",
       "date          Revisado en España el 3 de septiembre de 2019\n",
       "Name: 50, dtype: object"
      ]
     },
     "execution_count": 84,
     "metadata": {},
     "output_type": "execute_result"
    }
   ],
   "source": [
    "data.iloc[50]"
   ]
  },
  {
   "cell_type": "code",
   "execution_count": null,
   "metadata": {},
   "outputs": [],
   "source": []
  }
 ],
 "metadata": {
  "kernelspec": {
   "display_name": "Python 3",
   "language": "python",
   "name": "python3"
  },
  "language_info": {
   "codemirror_mode": {
    "name": "ipython",
    "version": 3
   },
   "file_extension": ".py",
   "mimetype": "text/x-python",
   "name": "python",
   "nbconvert_exporter": "python",
   "pygments_lexer": "ipython3",
   "version": "3.8.5"
  }
 },
 "nbformat": 4,
 "nbformat_minor": 4
}
