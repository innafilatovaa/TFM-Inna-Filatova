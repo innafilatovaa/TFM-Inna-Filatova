{
 "cells": [
  {
   "cell_type": "markdown",
   "id": "33fe19a3-2721-4a94-bb9b-aca1535e1a2e",
   "metadata": {},
   "source": [
    "----\n",
    "<p style=\"text-align: center; font-size: 25px; margin-top: 20px;\">\n",
    "    <strong>\n",
    "          Topic modelling with Latent Dirichlet Allocation (LDA)\n",
    "    </strong>\n",
    "</p>\n",
    "\n",
    "---"
   ]
  },
  {
   "cell_type": "code",
   "execution_count": 2,
   "id": "34430f0b-48b7-4a0e-a0cf-0dcaa9de0dcd",
   "metadata": {},
   "outputs": [
    {
     "ename": "NameError",
     "evalue": "name 'fmf' is not defined",
     "output_type": "error",
     "traceback": [
      "\u001b[0;31m---------------------------------------------------------------------------\u001b[0m",
      "\u001b[0;31mNameError\u001b[0m                                 Traceback (most recent call last)",
      "Cell \u001b[0;32mIn[2], line 1\u001b[0m\n\u001b[0;32m----> 1\u001b[0m \u001b[43mfmf\u001b[49m\n",
      "\u001b[0;31mNameError\u001b[0m: name 'fmf' is not defined"
     ]
    }
   ],
   "source": [
    "fmf\n"
   ]
  },
  {
   "cell_type": "code",
   "execution_count": null,
   "id": "5199189a-5822-4aa0-9df8-2bba81807aee",
   "metadata": {},
   "outputs": [],
   "source": []
  }
 ],
 "metadata": {
  "kernelspec": {
   "display_name": "Python 3 (ipykernel)",
   "language": "python",
   "name": "python3"
  },
  "language_info": {
   "codemirror_mode": {
    "name": "ipython",
    "version": 3
   },
   "file_extension": ".py",
   "mimetype": "text/x-python",
   "name": "python",
   "nbconvert_exporter": "python",
   "pygments_lexer": "ipython3",
   "version": "3.8.19"
  }
 },
 "nbformat": 4,
 "nbformat_minor": 5
}
