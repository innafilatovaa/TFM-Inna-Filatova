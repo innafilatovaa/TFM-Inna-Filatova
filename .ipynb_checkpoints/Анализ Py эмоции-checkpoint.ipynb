{
 "cells": [
  {
   "cell_type": "code",
   "execution_count": null,
   "id": "8730dffe-22db-43cc-a0ec-f84844d9a356",
   "metadata": {},
   "outputs": [],
   "source": [
    "#Analisis de emociones con Pysentiment\n",
    "\n",
    "import pandas as pd\n",
    "from pysentimiento import create_analyzer\n",
    "\n",
    "emotion_analyzer = create_analyzer(task=\"emotion\", lang=\"es\")\n",
    "\n",
    "reseñas = []\n",
    "frecuencias = []\n",
    "\n",
    "for i in range(3):\n",
    "    reseñas.append(pd.read_csv(f\"rewiews_cleaned_{i}.csv\"))\n",
    "    \n",
    "    reseñas[i]['emociones'] = reseñas[i]['body'].astype(str).apply(lambda x: emotion_analyzer.predict(x).output)\n",
    "    frecuencias.append(reseñas[i]['emociones'].value_counts())  # Calcular las frecuencias de cada emoción y almacenarlas\n",
    "\n",
    "# Mostrar los resultados de las frecuencias para cada dataset\n",
    "for i in range(3):\n",
    "    print(f\"Frecuencias de emociones para Archivo {i}:\")\n",
    "    print(frecuencias[i])\n",
    "    print(\"\\n\")"
   ]
  }
 ],
 "metadata": {
  "kernelspec": {
   "display_name": "Python 3 (ipykernel)",
   "language": "python",
   "name": "python3"
  },
  "language_info": {
   "codemirror_mode": {
    "name": "ipython",
    "version": 3
   },
   "file_extension": ".py",
   "mimetype": "text/x-python",
   "name": "python",
   "nbconvert_exporter": "python",
   "pygments_lexer": "ipython3",
   "version": "3.12.2"
  }
 },
 "nbformat": 4,
 "nbformat_minor": 5
}
